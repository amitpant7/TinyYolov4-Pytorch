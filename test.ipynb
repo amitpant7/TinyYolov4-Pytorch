{
 "cells": [
  {
   "cell_type": "code",
   "execution_count": 2,
   "metadata": {},
   "outputs": [],
   "source": [
    "from model.yolov4 import TinyYoloV4"
   ]
  },
  {
   "cell_type": "code",
   "execution_count": 3,
   "metadata": {},
   "outputs": [],
   "source": [
    "model = TinyYoloV4(num_classes=20)"
   ]
  },
  {
   "cell_type": "code",
   "execution_count": 6,
   "metadata": {},
   "outputs": [
    {
     "name": "stdout",
     "output_type": "stream",
     "text": [
      "==========================================================================================\n",
      "Layer (type:depth-idx)                   Output Shape              Param #\n",
      "==========================================================================================\n",
      "├─CSPTiny: 1-1                           [-1, 512, 13, 13]         --\n",
      "|    └─Conv2dBatchLeaky: 2-1             [-1, 32, 208, 208]        --\n",
      "|    |    └─Sequential: 3-1              [-1, 32, 208, 208]        928\n",
      "|    └─Conv2dBatchLeaky: 2-2             [-1, 64, 104, 104]        --\n",
      "|    |    └─Sequential: 3-2              [-1, 64, 104, 104]        18,560\n",
      "|    └─CSPBlock: 2-3                     [-1, 128, 104, 104]       --\n",
      "|    |    └─Conv2dBatchLeaky: 3-3        [-1, 64, 104, 104]        4,224\n",
      "|    |    └─Conv2dBatchLeaky: 3-4        [-1, 128, 104, 104]       73,984\n",
      "|    |    └─Conv2dBatchLeaky: 3-5        [-1, 64, 104, 104]        8,320\n",
      "|    |    └─Conv2dBatchLeaky: 3-6        [-1, 64, 104, 104]        8,320\n",
      "|    |    └─Conv2dBatchLeaky: 3-7        [-1, 64, 104, 104]        4,224\n",
      "|    |    └─Conv2dBatchLeaky: 3-8        [-1, 64, 104, 104]        36,992\n",
      "|    |    └─Conv2dBatchLeaky: 3-9        [-1, 64, 104, 104]        4,224\n",
      "|    └─MaxPool2d: 2-4                    [-1, 128, 52, 52]         --\n",
      "|    └─CSPBlock: 2-5                     [-1, 256, 52, 52]         --\n",
      "|    |    └─Conv2dBatchLeaky: 3-10       [-1, 128, 52, 52]         16,640\n",
      "|    |    └─Conv2dBatchLeaky: 3-11       [-1, 256, 52, 52]         295,424\n",
      "|    |    └─Conv2dBatchLeaky: 3-12       [-1, 128, 52, 52]         33,024\n",
      "|    |    └─Conv2dBatchLeaky: 3-13       [-1, 128, 52, 52]         33,024\n",
      "|    |    └─Conv2dBatchLeaky: 3-14       [-1, 128, 52, 52]         16,640\n",
      "|    |    └─Conv2dBatchLeaky: 3-15       [-1, 128, 52, 52]         147,712\n",
      "|    |    └─Conv2dBatchLeaky: 3-16       [-1, 128, 52, 52]         16,640\n",
      "|    └─MaxPool2d: 2-6                    [-1, 256, 26, 26]         --\n",
      "|    └─CSPBlock: 2-7                     [-1, 512, 26, 26]         --\n",
      "|    |    └─Conv2dBatchLeaky: 3-17       [-1, 256, 26, 26]         66,048\n",
      "|    |    └─Conv2dBatchLeaky: 3-18       [-1, 512, 26, 26]         1,180,672\n",
      "|    |    └─Conv2dBatchLeaky: 3-19       [-1, 256, 26, 26]         131,584\n",
      "|    |    └─Conv2dBatchLeaky: 3-20       [-1, 256, 26, 26]         131,584\n",
      "|    |    └─Conv2dBatchLeaky: 3-21       [-1, 256, 26, 26]         66,048\n",
      "|    |    └─Conv2dBatchLeaky: 3-22       [-1, 256, 26, 26]         590,336\n",
      "|    |    └─Conv2dBatchLeaky: 3-23       [-1, 256, 26, 26]         66,048\n",
      "|    └─MaxPool2d: 2-8                    [-1, 512, 13, 13]         --\n",
      "|    └─Conv2dBatchLeaky: 2-9             [-1, 512, 13, 13]         --\n",
      "|    |    └─Sequential: 3-24             [-1, 512, 13, 13]         2,360,320\n",
      "├─Neck: 1-2                              [-1, 512, 13, 13]         --\n",
      "|    └─Conv2dBatchLeaky: 2-10            [-1, 256, 13, 13]         --\n",
      "|    |    └─Sequential: 3-25             [-1, 256, 13, 13]         1,180,160\n",
      "|    └─Conv2dBatchLeaky: 2-11            [-1, 512, 13, 13]         --\n",
      "|    |    └─Sequential: 3-26             [-1, 512, 13, 13]         1,180,672\n",
      "|    └─Conv2dBatchLeaky: 2-12            [-1, 512, 13, 13]         --\n",
      "|    |    └─Sequential: 3-27             [-1, 512, 13, 13]         263,168\n",
      "|    └─Conv2dBatchLeaky: 2-13            [-1, 256, 26, 26]         --\n",
      "|    |    └─Sequential: 3-28             [-1, 256, 26, 26]         1,180,160\n",
      "|    └─Upsample: 2-14                    [-1, 256, 26, 26]         --\n",
      "|    └─Conv2dBatchLeaky: 2-15            [-1, 256, 26, 26]         --\n",
      "|    |    └─Sequential: 3-29             [-1, 256, 26, 26]         1,180,160\n",
      "|    └─Conv2dBatchLeaky: 2-16            [-1, 256, 26, 26]         --\n",
      "|    |    └─Sequential: 3-30             [-1, 256, 26, 26]         66,048\n",
      "├─Head: 1-3                              [-1, 75, 13, 13]          --\n",
      "|    └─Sequential: 2-17                  [-1, 75, 13, 13]          --\n",
      "|    |    └─Conv2dBatchLeaky: 3-31       [-1, 1024, 13, 13]        4,720,640\n",
      "|    |    └─Conv2dBatchLeaky: 3-32       [-1, 75, 13, 13]          76,950\n",
      "|    └─Sequential: 2-18                  [-1, 75, 26, 26]          --\n",
      "|    |    └─Conv2dBatchLeaky: 3-33       [-1, 512, 26, 26]         1,180,672\n",
      "|    |    └─Conv2dBatchLeaky: 3-34       [-1, 75, 26, 26]          38,550\n",
      "==========================================================================================\n",
      "Total params: 16,378,700\n",
      "Trainable params: 16,378,700\n",
      "Non-trainable params: 0\n",
      "Total mult-adds (G): 2.78\n",
      "==========================================================================================\n",
      "Input size (MB): 1.98\n",
      "Forward/backward pass size (MB): 44.23\n",
      "Params size (MB): 62.48\n",
      "Estimated Total Size (MB): 108.69\n",
      "==========================================================================================\n"
     ]
    },
    {
     "data": {
      "text/plain": [
       "==========================================================================================\n",
       "Layer (type:depth-idx)                   Output Shape              Param #\n",
       "==========================================================================================\n",
       "├─CSPTiny: 1-1                           [-1, 512, 13, 13]         --\n",
       "|    └─Conv2dBatchLeaky: 2-1             [-1, 32, 208, 208]        --\n",
       "|    |    └─Sequential: 3-1              [-1, 32, 208, 208]        928\n",
       "|    └─Conv2dBatchLeaky: 2-2             [-1, 64, 104, 104]        --\n",
       "|    |    └─Sequential: 3-2              [-1, 64, 104, 104]        18,560\n",
       "|    └─CSPBlock: 2-3                     [-1, 128, 104, 104]       --\n",
       "|    |    └─Conv2dBatchLeaky: 3-3        [-1, 64, 104, 104]        4,224\n",
       "|    |    └─Conv2dBatchLeaky: 3-4        [-1, 128, 104, 104]       73,984\n",
       "|    |    └─Conv2dBatchLeaky: 3-5        [-1, 64, 104, 104]        8,320\n",
       "|    |    └─Conv2dBatchLeaky: 3-6        [-1, 64, 104, 104]        8,320\n",
       "|    |    └─Conv2dBatchLeaky: 3-7        [-1, 64, 104, 104]        4,224\n",
       "|    |    └─Conv2dBatchLeaky: 3-8        [-1, 64, 104, 104]        36,992\n",
       "|    |    └─Conv2dBatchLeaky: 3-9        [-1, 64, 104, 104]        4,224\n",
       "|    └─MaxPool2d: 2-4                    [-1, 128, 52, 52]         --\n",
       "|    └─CSPBlock: 2-5                     [-1, 256, 52, 52]         --\n",
       "|    |    └─Conv2dBatchLeaky: 3-10       [-1, 128, 52, 52]         16,640\n",
       "|    |    └─Conv2dBatchLeaky: 3-11       [-1, 256, 52, 52]         295,424\n",
       "|    |    └─Conv2dBatchLeaky: 3-12       [-1, 128, 52, 52]         33,024\n",
       "|    |    └─Conv2dBatchLeaky: 3-13       [-1, 128, 52, 52]         33,024\n",
       "|    |    └─Conv2dBatchLeaky: 3-14       [-1, 128, 52, 52]         16,640\n",
       "|    |    └─Conv2dBatchLeaky: 3-15       [-1, 128, 52, 52]         147,712\n",
       "|    |    └─Conv2dBatchLeaky: 3-16       [-1, 128, 52, 52]         16,640\n",
       "|    └─MaxPool2d: 2-6                    [-1, 256, 26, 26]         --\n",
       "|    └─CSPBlock: 2-7                     [-1, 512, 26, 26]         --\n",
       "|    |    └─Conv2dBatchLeaky: 3-17       [-1, 256, 26, 26]         66,048\n",
       "|    |    └─Conv2dBatchLeaky: 3-18       [-1, 512, 26, 26]         1,180,672\n",
       "|    |    └─Conv2dBatchLeaky: 3-19       [-1, 256, 26, 26]         131,584\n",
       "|    |    └─Conv2dBatchLeaky: 3-20       [-1, 256, 26, 26]         131,584\n",
       "|    |    └─Conv2dBatchLeaky: 3-21       [-1, 256, 26, 26]         66,048\n",
       "|    |    └─Conv2dBatchLeaky: 3-22       [-1, 256, 26, 26]         590,336\n",
       "|    |    └─Conv2dBatchLeaky: 3-23       [-1, 256, 26, 26]         66,048\n",
       "|    └─MaxPool2d: 2-8                    [-1, 512, 13, 13]         --\n",
       "|    └─Conv2dBatchLeaky: 2-9             [-1, 512, 13, 13]         --\n",
       "|    |    └─Sequential: 3-24             [-1, 512, 13, 13]         2,360,320\n",
       "├─Neck: 1-2                              [-1, 512, 13, 13]         --\n",
       "|    └─Conv2dBatchLeaky: 2-10            [-1, 256, 13, 13]         --\n",
       "|    |    └─Sequential: 3-25             [-1, 256, 13, 13]         1,180,160\n",
       "|    └─Conv2dBatchLeaky: 2-11            [-1, 512, 13, 13]         --\n",
       "|    |    └─Sequential: 3-26             [-1, 512, 13, 13]         1,180,672\n",
       "|    └─Conv2dBatchLeaky: 2-12            [-1, 512, 13, 13]         --\n",
       "|    |    └─Sequential: 3-27             [-1, 512, 13, 13]         263,168\n",
       "|    └─Conv2dBatchLeaky: 2-13            [-1, 256, 26, 26]         --\n",
       "|    |    └─Sequential: 3-28             [-1, 256, 26, 26]         1,180,160\n",
       "|    └─Upsample: 2-14                    [-1, 256, 26, 26]         --\n",
       "|    └─Conv2dBatchLeaky: 2-15            [-1, 256, 26, 26]         --\n",
       "|    |    └─Sequential: 3-29             [-1, 256, 26, 26]         1,180,160\n",
       "|    └─Conv2dBatchLeaky: 2-16            [-1, 256, 26, 26]         --\n",
       "|    |    └─Sequential: 3-30             [-1, 256, 26, 26]         66,048\n",
       "├─Head: 1-3                              [-1, 75, 13, 13]          --\n",
       "|    └─Sequential: 2-17                  [-1, 75, 13, 13]          --\n",
       "|    |    └─Conv2dBatchLeaky: 3-31       [-1, 1024, 13, 13]        4,720,640\n",
       "|    |    └─Conv2dBatchLeaky: 3-32       [-1, 75, 13, 13]          76,950\n",
       "|    └─Sequential: 2-18                  [-1, 75, 26, 26]          --\n",
       "|    |    └─Conv2dBatchLeaky: 3-33       [-1, 512, 26, 26]         1,180,672\n",
       "|    |    └─Conv2dBatchLeaky: 3-34       [-1, 75, 26, 26]          38,550\n",
       "==========================================================================================\n",
       "Total params: 16,378,700\n",
       "Trainable params: 16,378,700\n",
       "Non-trainable params: 0\n",
       "Total mult-adds (G): 2.78\n",
       "==========================================================================================\n",
       "Input size (MB): 1.98\n",
       "Forward/backward pass size (MB): 44.23\n",
       "Params size (MB): 62.48\n",
       "Estimated Total Size (MB): 108.69\n",
       "=========================================================================================="
      ]
     },
     "execution_count": 6,
     "metadata": {},
     "output_type": "execute_result"
    }
   ],
   "source": [
    "from torchsummary import summary\n",
    "summary(model, input)"
   ]
  },
  {
   "cell_type": "code",
   "execution_count": 5,
   "metadata": {},
   "outputs": [],
   "source": [
    "import torch\n",
    "input = torch.randn((1, 3, 416, 416))"
   ]
  },
  {
   "cell_type": "code",
   "execution_count": 5,
   "metadata": {},
   "outputs": [],
   "source": [
    "o = model(input)"
   ]
  },
  {
   "cell_type": "code",
   "execution_count": 6,
   "metadata": {},
   "outputs": [
    {
     "data": {
      "text/plain": [
       "(torch.Size([1, 13, 13, 3, 25]), torch.Size([1, 26, 26, 3, 25]))"
      ]
     },
     "execution_count": 6,
     "metadata": {},
     "output_type": "execute_result"
    }
   ],
   "source": [
    "o[0].shape, o[1].shape"
   ]
  },
  {
   "cell_type": "code",
   "execution_count": 8,
   "metadata": {},
   "outputs": [],
   "source": [
    "#loss test"
   ]
  },
  {
   "cell_type": "code",
   "execution_count": 11,
   "metadata": {},
   "outputs": [
    {
     "name": "stdout",
     "output_type": "stream",
     "text": [
      "[INFO] Register count_convNd() for <class 'torch.nn.modules.conv.Conv2d'>.\n",
      "[INFO] Register count_normalization() for <class 'torch.nn.modules.batchnorm.BatchNorm2d'>.\n",
      "[INFO] Register count_relu() for <class 'torch.nn.modules.activation.LeakyReLU'>.\n",
      "[INFO] Register zero_ops() for <class 'torch.nn.modules.container.Sequential'>.\n",
      "[INFO] Register zero_ops() for <class 'torch.nn.modules.pooling.MaxPool2d'>.\n",
      "[INFO] Register count_upsample() for <class 'torch.nn.modules.upsampling.Upsample'>.\n"
     ]
    }
   ],
   "source": [
    "from thop import profile\n",
    "macs, params = profile(model, inputs=(input, ))"
   ]
  },
  {
   "cell_type": "code",
   "execution_count": 12,
   "metadata": {},
   "outputs": [],
   "source": [
    "from thop import clever_format\n",
    "macs, params = clever_format([macs, params], \"%.3f\")"
   ]
  },
  {
   "cell_type": "code",
   "execution_count": 13,
   "metadata": {},
   "outputs": [
    {
     "name": "stdout",
     "output_type": "stream",
     "text": [
      "8.923G 16.379M\n"
     ]
    }
   ],
   "source": [
    "print(macs, params)"
   ]
  },
  {
   "cell_type": "code",
   "execution_count": 1,
   "metadata": {},
   "outputs": [],
   "source": [
    "from model.loss import *"
   ]
  },
  {
   "cell_type": "code",
   "execution_count": 2,
   "metadata": {},
   "outputs": [],
   "source": [
    "l = YoloV4_Loss()"
   ]
  },
  {
   "cell_type": "code",
   "execution_count": 3,
   "metadata": {},
   "outputs": [
    {
     "name": "stdout",
     "output_type": "stream",
     "text": [
      "tensor(6.5671)\n",
      "tensor(6.5763)\n",
      "tensor(13.1435)\n"
     ]
    }
   ],
   "source": [
    "g = torch.Generator().manual_seed(0)\n",
    "\n",
    "preds  = [torch.randn((32, s,s,3,25),generator=g) for s in S]\n",
    "ground_truths =[torch.randn((32, s,s,3,25),generator=g) for s in S]\n",
    "\n",
    "for ground_truth in ground_truths:\n",
    "  ground_truth[..., 0] = torch.empty_like(ground_truth[..., 0], dtype=torch.long).random_(2)\n",
    "  ground_truth[...,5:] = torch.empty_like(ground_truth[..., 5:], dtype=torch.long).random_(2)\n",
    "\n",
    "loss = YoloV4_Loss()\n",
    "print(loss(preds, ground_truths))"
   ]
  }
 ],
 "metadata": {
  "kernelspec": {
   "display_name": "ml",
   "language": "python",
   "name": "python3"
  },
  "language_info": {
   "codemirror_mode": {
    "name": "ipython",
    "version": 3
   },
   "file_extension": ".py",
   "mimetype": "text/x-python",
   "name": "python",
   "nbconvert_exporter": "python",
   "pygments_lexer": "ipython3",
   "version": "3.8.18"
  }
 },
 "nbformat": 4,
 "nbformat_minor": 2
}
